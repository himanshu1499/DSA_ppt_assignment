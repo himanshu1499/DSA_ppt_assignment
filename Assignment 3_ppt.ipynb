{
 "cells": [
  {
   "cell_type": "code",
   "execution_count": 1,
   "id": "8e4d490c-65ed-4b64-9ae2-bde035121e8e",
   "metadata": {},
   "outputs": [],
   "source": [
    "#Q20"
   ]
  },
  {
   "cell_type": "code",
   "execution_count": 2,
   "id": "08134aa4-7f1e-4f6d-91fc-a305b5c8db65",
   "metadata": {},
   "outputs": [
    {
     "name": "stdout",
     "output_type": "stream",
     "text": [
      "                            OLS Regression Results                            \n",
      "==============================================================================\n",
      "Dep. Variable:                      y   R-squared:                       0.767\n",
      "Model:                            OLS   Adj. R-squared:                  0.689\n",
      "Method:                 Least Squares   F-statistic:                     9.872\n",
      "Date:                Sat, 08 Jul 2023   Prob (F-statistic):             0.0516\n",
      "Time:                        16:08:53   Log-Likelihood:                -9.5288\n",
      "No. Observations:                   5   AIC:                             23.06\n",
      "Df Residuals:                       3   BIC:                             22.28\n",
      "Df Model:                           1                                         \n",
      "Covariance Type:            nonrobust                                         \n",
      "==============================================================================\n",
      "                 coef    std err          t      P>|t|      [0.025      0.975]\n",
      "------------------------------------------------------------------------------\n",
      "const         12.2012      4.429      2.755      0.070      -1.893      26.296\n",
      "x1             1.1524      0.367      3.142      0.052      -0.015       2.320\n",
      "==============================================================================\n",
      "Omnibus:                          nan   Durbin-Watson:                   1.136\n",
      "Prob(Omnibus):                    nan   Jarque-Bera (JB):                0.546\n",
      "Skew:                          -0.267   Prob(JB):                        0.761\n",
      "Kurtosis:                       1.471   Cond. No.                         57.3\n",
      "==============================================================================\n",
      "\n",
      "Notes:\n",
      "[1] Standard Errors assume that the covariance matrix of the errors is correctly specified.\n"
     ]
    },
    {
     "name": "stderr",
     "output_type": "stream",
     "text": [
      "/opt/conda/lib/python3.10/site-packages/statsmodels/stats/stattools.py:74: ValueWarning: omni_normtest is not valid with less than 8 observations; 5 samples were given.\n",
      "  warn(\"omni_normtest is not valid with less than 8 observations; %i \"\n"
     ]
    }
   ],
   "source": [
    "import numpy as np\n",
    "import statsmodels.api as sm\n",
    "\n",
    "# Advertising Expenditure (in thousands)\n",
    "X = np.array([10, 15, 12, 8, 14])\n",
    "\n",
    "# Sales (in thousands)\n",
    "y = np.array([25, 30, 28, 20, 26])\n",
    "\n",
    "# Add a constant column to the X matrix for the intercept term\n",
    "X = sm.add_constant(X)\n",
    "\n",
    "# Create and fit the OLS (Ordinary Least Squares) model\n",
    "model = sm.OLS(y, X)\n",
    "results = model.fit()\n",
    "\n",
    "# Print the regression results\n",
    "print(results.summary())\n"
   ]
  },
  {
   "cell_type": "code",
   "execution_count": 3,
   "id": "c0071a7b-49e9-4db9-9e3d-7b2a97164fcb",
   "metadata": {},
   "outputs": [],
   "source": [
    "#Q19"
   ]
  },
  {
   "cell_type": "code",
   "execution_count": 4,
   "id": "8ff0b28d-79b0-4c9f-bf70-14f06817f71c",
   "metadata": {},
   "outputs": [
    {
     "name": "stdout",
     "output_type": "stream",
     "text": [
      "Standard Error of the Mean: 0.28982753492378877\n"
     ]
    }
   ],
   "source": [
    "import numpy as np\n",
    "\n",
    "data = np.array([7, 8, 9, 6, 8, 7, 9, 7, 8, 7])\n",
    "\n",
    "standard_deviation = np.std(data)\n",
    "n = len(data)\n",
    "\n",
    "standard_error = standard_deviation / np.sqrt(n)\n",
    "\n",
    "print(\"Standard Error of the Mean:\", standard_error)\n"
   ]
  },
  {
   "cell_type": "code",
   "execution_count": 5,
   "id": "29360952-81f4-4659-b90a-2e50831a8293",
   "metadata": {},
   "outputs": [],
   "source": [
    "#Q18"
   ]
  },
  {
   "cell_type": "code",
   "execution_count": 6,
   "id": "92db0250-0e12-4225-8b57-433210cc0e53",
   "metadata": {},
   "outputs": [
    {
     "name": "stdout",
     "output_type": "stream",
     "text": [
      "                            OLS Regression Results                            \n",
      "==============================================================================\n",
      "Dep. Variable:                      y   R-squared:                       0.806\n",
      "Model:                            OLS   Adj. R-squared:                  0.742\n",
      "Method:                 Least Squares   F-statistic:                     12.50\n",
      "Date:                Sat, 08 Jul 2023   Prob (F-statistic):             0.0385\n",
      "Time:                        16:11:28   Log-Likelihood:                -14.503\n",
      "No. Observations:                   5   AIC:                             33.01\n",
      "Df Residuals:                       3   BIC:                             32.22\n",
      "Df Model:                           1                                         \n",
      "Covariance Type:            nonrobust                                         \n",
      "==============================================================================\n",
      "                 coef    std err          t      P>|t|      [0.025      0.975]\n",
      "------------------------------------------------------------------------------\n",
      "const        136.3720     11.976     11.387      0.001      98.259     174.485\n",
      "x1            -3.5061      0.992     -3.535      0.039      -6.663      -0.350\n",
      "==============================================================================\n",
      "Omnibus:                          nan   Durbin-Watson:                   0.811\n",
      "Prob(Omnibus):                    nan   Jarque-Bera (JB):                0.632\n",
      "Skew:                           0.770   Prob(JB):                        0.729\n",
      "Kurtosis:                       2.186   Cond. No.                         57.3\n",
      "==============================================================================\n",
      "\n",
      "Notes:\n",
      "[1] Standard Errors assume that the covariance matrix of the errors is correctly specified.\n"
     ]
    },
    {
     "name": "stderr",
     "output_type": "stream",
     "text": [
      "/opt/conda/lib/python3.10/site-packages/statsmodels/stats/stattools.py:74: ValueWarning: omni_normtest is not valid with less than 8 observations; 5 samples were given.\n",
      "  warn(\"omni_normtest is not valid with less than 8 observations; %i \"\n"
     ]
    }
   ],
   "source": [
    "import numpy as np\n",
    "import statsmodels.api as sm\n",
    "\n",
    "# Price (in dollars)\n",
    "X = np.array([10, 15, 12, 8, 14])\n",
    "\n",
    "# Sales\n",
    "y = np.array([100, 80, 90, 110, 95])\n",
    "\n",
    "# Add a constant column to the X matrix for the intercept term\n",
    "X = sm.add_constant(X)\n",
    "\n",
    "# Create and fit the OLS (Ordinary Least Squares) model\n",
    "model = sm.OLS(y, X)\n",
    "results = model.fit()\n",
    "\n",
    "# Print the regression results\n",
    "print(results.summary())\n"
   ]
  },
  {
   "cell_type": "code",
   "execution_count": 7,
   "id": "77e057e6-69b8-41bf-a4e4-13f6f460965c",
   "metadata": {},
   "outputs": [],
   "source": [
    "#Q17"
   ]
  },
  {
   "cell_type": "code",
   "execution_count": 8,
   "id": "7b6310b3-86f5-4a32-ba44-ebff29dd6954",
   "metadata": {},
   "outputs": [
    {
     "name": "stdout",
     "output_type": "stream",
     "text": [
      "Kruskal-Wallis Test Statistic: 9.696947935368053\n",
      "p-value: 0.007840333026249539\n"
     ]
    }
   ],
   "source": [
    "import numpy as np\n",
    "from scipy.stats import kruskal\n",
    "\n",
    "# Accuracy scores for each algorithm\n",
    "algorithm_A = np.array([0.85, 0.80, 0.82, 0.87, 0.83])\n",
    "algorithm_B = np.array([0.78, 0.82, 0.84, 0.80, 0.79])\n",
    "algorithm_C = np.array([0.90, 0.88, 0.89, 0.86, 0.87])\n",
    "\n",
    "# Perform Kruskal-Wallis test\n",
    "statistic, p_value = kruskal(algorithm_A, algorithm_B, algorithm_C)\n",
    "\n",
    "# Print the test results\n",
    "print(\"Kruskal-Wallis Test Statistic:\", statistic)\n",
    "print(\"p-value:\", p_value)\n"
   ]
  },
  {
   "cell_type": "code",
   "execution_count": 9,
   "id": "3c247cf4-db84-414d-b424-f5210ce40b51",
   "metadata": {},
   "outputs": [],
   "source": [
    "#Q16"
   ]
  },
  {
   "cell_type": "code",
   "execution_count": 10,
   "id": "920d47e9-cd4c-4e6f-a83b-393ccc55fae3",
   "metadata": {},
   "outputs": [
    {
     "name": "stdout",
     "output_type": "stream",
     "text": [
      "Interquartile Range (IQR): 22.5\n"
     ]
    }
   ],
   "source": [
    "import numpy as np\n",
    "\n",
    "data = np.array([25, 30, 35, 40, 45, 50, 55, 60, 65, 70])\n",
    "\n",
    "q1 = np.percentile(data, 25)\n",
    "q3 = np.percentile(data, 75)\n",
    "\n",
    "iqr = q3 - q1\n",
    "\n",
    "print(\"Interquartile Range (IQR):\", iqr)\n"
   ]
  },
  {
   "cell_type": "code",
   "execution_count": 11,
   "id": "fda32594-dfbf-4f6f-adf4-efaca1258081",
   "metadata": {},
   "outputs": [],
   "source": [
    "#Q15"
   ]
  },
  {
   "cell_type": "code",
   "execution_count": 12,
   "id": "4435d700-c964-467b-b230-3876d10db664",
   "metadata": {},
   "outputs": [
    {
     "name": "stdout",
     "output_type": "stream",
     "text": [
      "Mann-Whitney U Test Statistic: 17.0\n",
      "p-value: 0.380836480306712\n"
     ]
    }
   ],
   "source": [
    "import numpy as np\n",
    "from scipy.stats import mannwhitneyu\n",
    "\n",
    "# Preferences for each group\n",
    "group_A = np.array([4, 3, 5, 2, 4])\n",
    "group_B = np.array([3, 2, 4, 3, 3])\n",
    "\n",
    "# Perform Mann-Whitney U test\n",
    "statistic, p_value = mannwhitneyu(group_A, group_B)\n",
    "\n",
    "# Print the test results\n",
    "print(\"Mann-Whitney U Test Statistic:\", statistic)\n",
    "print(\"p-value:\", p_value)\n"
   ]
  },
  {
   "cell_type": "code",
   "execution_count": 13,
   "id": "d491ea49-0f76-4933-8353-1f66267038e2",
   "metadata": {},
   "outputs": [],
   "source": [
    "#Q14"
   ]
  },
  {
   "cell_type": "code",
   "execution_count": 14,
   "id": "d5eb3e11-b309-4d2f-b356-26bc1cd27e26",
   "metadata": {},
   "outputs": [
    {
     "name": "stdout",
     "output_type": "stream",
     "text": [
      "                            OLS Regression Results                            \n",
      "==============================================================================\n",
      "Dep. Variable:                      y   R-squared:                       0.481\n",
      "Model:                            OLS   Adj. R-squared:                  0.308\n",
      "Method:                 Least Squares   F-statistic:                     2.778\n",
      "Date:                Sat, 08 Jul 2023   Prob (F-statistic):              0.194\n",
      "Time:                        16:15:31   Log-Likelihood:                -5.5542\n",
      "No. Observations:                   5   AIC:                             15.11\n",
      "Df Residuals:                       3   BIC:                             14.33\n",
      "Df Model:                           1                                         \n",
      "Covariance Type:            nonrobust                                         \n",
      "==============================================================================\n",
      "                 coef    std err          t      P>|t|      [0.025      0.975]\n",
      "------------------------------------------------------------------------------\n",
      "const         -2.9000      6.314     -0.459      0.677     -22.995      17.195\n",
      "x1             0.5000      0.300      1.667      0.194      -0.455       1.455\n",
      "==============================================================================\n",
      "Omnibus:                          nan   Durbin-Watson:                   3.056\n",
      "Prob(Omnibus):                    nan   Jarque-Bera (JB):                0.522\n",
      "Skew:                          -0.348   Prob(JB):                        0.770\n",
      "Kurtosis:                       1.578   Cond. No.                         314.\n",
      "==============================================================================\n",
      "\n",
      "Notes:\n",
      "[1] Standard Errors assume that the covariance matrix of the errors is correctly specified.\n"
     ]
    },
    {
     "name": "stderr",
     "output_type": "stream",
     "text": [
      "/opt/conda/lib/python3.10/site-packages/statsmodels/stats/stattools.py:74: ValueWarning: omni_normtest is not valid with less than 8 observations; 5 samples were given.\n",
      "  warn(\"omni_normtest is not valid with less than 8 observations; %i \"\n"
     ]
    }
   ],
   "source": [
    "import numpy as np\n",
    "import statsmodels.api as sm\n",
    "\n",
    "# Temperature (in degrees Celsius)\n",
    "X = np.array([20, 22, 23, 19, 21])\n",
    "\n",
    "# Performance (on a scale of 1 to 10)\n",
    "y = np.array([8, 7, 9, 6, 8])\n",
    "\n",
    "# Add a constant column to the X matrix for the intercept term\n",
    "X = sm.add_constant(X)\n",
    "\n",
    "# Create and fit the OLS (Ordinary Least Squares) model\n",
    "model = sm.OLS(y, X)\n",
    "results = model.fit()\n",
    "\n",
    "# Print the regression results\n",
    "print(results.summary())\n"
   ]
  },
  {
   "cell_type": "code",
   "execution_count": 15,
   "id": "cf612ed0-4ac5-48eb-9b69-9e1aaacae7f9",
   "metadata": {},
   "outputs": [],
   "source": [
    "#Q13"
   ]
  },
  {
   "cell_type": "code",
   "execution_count": 16,
   "id": "f0b76f78-8a8c-437e-aaeb-7eadaa2e4051",
   "metadata": {},
   "outputs": [
    {
     "name": "stdout",
     "output_type": "stream",
     "text": [
      "95% Confidence Interval: (7.043561120599888, 8.756438879400113)\n"
     ]
    }
   ],
   "source": [
    "import numpy as np\n",
    "from scipy import stats\n",
    "\n",
    "data = np.array([7, 9, 6, 8, 10, 7, 8, 9, 7, 8])\n",
    "\n",
    "confidence_level = 0.95\n",
    "\n",
    "mean = np.mean(data)\n",
    "standard_error = stats.sem(data)\n",
    "margin_of_error = standard_error * stats.t.ppf((1 + confidence_level) / 2, len(data) - 1)\n",
    "confidence_interval = (mean - margin_of_error, mean + margin_of_error)\n",
    "\n",
    "print(\"95% Confidence Interval:\", confidence_interval)\n"
   ]
  },
  {
   "cell_type": "code",
   "execution_count": 17,
   "id": "f3419658-b8ad-4d9a-a1fd-fffebb4e8bd9",
   "metadata": {},
   "outputs": [],
   "source": [
    "#Q12"
   ]
  },
  {
   "cell_type": "code",
   "execution_count": 18,
   "id": "35ea4440-9906-4473-9f7a-50286f946a6b",
   "metadata": {},
   "outputs": [
    {
     "name": "stdout",
     "output_type": "stream",
     "text": [
      "Chi-square Statistic: 6.110658166925435\n",
      "p-value: 0.19103526314060293\n"
     ]
    }
   ],
   "source": [
    "import numpy as np\n",
    "from scipy.stats import chi2_contingency\n",
    "\n",
    "# Click-through rates for each design\n",
    "design_A = np.array([100, 120, 110, 90, 95])\n",
    "design_B = np.array([80, 85, 90, 95, 100])\n",
    "\n",
    "# Create a contingency table\n",
    "observed = np.array([design_A, design_B])\n",
    "\n",
    "# Perform chi-square test\n",
    "chi2, p_value, dof, expected = chi2_contingency(observed)\n",
    "\n",
    "# Print the test results\n",
    "print(\"Chi-square Statistic:\", chi2)\n",
    "print(\"p-value:\", p_value)\n"
   ]
  },
  {
   "cell_type": "code",
   "execution_count": 19,
   "id": "e20db972-936a-45ff-ab9a-0e3e6fdaa2f9",
   "metadata": {},
   "outputs": [],
   "source": [
    "#Q11"
   ]
  },
  {
   "cell_type": "code",
   "execution_count": 20,
   "id": "1c57fb49-e57d-4339-ad02-31066aef9404",
   "metadata": {},
   "outputs": [
    {
     "name": "stdout",
     "output_type": "stream",
     "text": [
      "T-statistic: 1.5126584522688367\n",
      "p-value: 0.19077595151110102\n"
     ]
    }
   ],
   "source": [
    "import numpy as np\n",
    "from scipy.stats import ttest_1samp\n",
    "\n",
    "# Weight sample data\n",
    "weights = np.array([10.2, 9.8, 10.0, 10.5, 10.3, 10.1])\n",
    "\n",
    "# Hypothesized mean\n",
    "hypothesized_mean = 10.0\n",
    "\n",
    "# Perform one-sample t-test\n",
    "t_statistic, p_value = ttest_1samp(weights, hypothesized_mean)\n",
    "\n",
    "# Print the test results\n",
    "print(\"T-statistic:\", t_statistic)\n",
    "print(\"p-value:\", p_value)\n"
   ]
  },
  {
   "cell_type": "code",
   "execution_count": 21,
   "id": "c722b338-35e2-4f47-813c-ee40198d983c",
   "metadata": {},
   "outputs": [],
   "source": [
    "#Q10"
   ]
  },
  {
   "cell_type": "code",
   "execution_count": 22,
   "id": "c40b36b1-2787-4cd1-bb53-3f2007b2a91c",
   "metadata": {},
   "outputs": [
    {
     "name": "stdout",
     "output_type": "stream",
     "text": [
      "75th Percentile: 8.75\n"
     ]
    }
   ],
   "source": [
    "import numpy as np\n",
    "\n",
    "data = np.array([8, 9, 7, 6, 8, 10, 9, 8, 7, 8])\n",
    "\n",
    "percentile_75 = np.percentile(data, 75)\n",
    "\n",
    "print(\"75th Percentile:\", percentile_75)\n"
   ]
  },
  {
   "cell_type": "code",
   "execution_count": 23,
   "id": "f49134cc-a8e7-47fc-bbda-791a8b5ee8ad",
   "metadata": {},
   "outputs": [],
   "source": [
    "#Q9"
   ]
  },
  {
   "cell_type": "code",
   "execution_count": 24,
   "id": "8ba9fe15-da9d-4b48-a5c9-434f4acdfa8d",
   "metadata": {},
   "outputs": [
    {
     "name": "stdout",
     "output_type": "stream",
     "text": [
      "F-statistic: 16.0\n",
      "p-value: 0.003949772803445326\n"
     ]
    }
   ],
   "source": [
    "import numpy as np\n",
    "from scipy.stats import f_oneway\n",
    "\n",
    "# Recovery times for each medication\n",
    "medication_A = np.array([10, 12, 14, 11, 13])\n",
    "medication_B = np.array([15, 17, 16, 14, 18])\n",
    "\n",
    "# Perform ANOVA\n",
    "f_statistic, p_value = f_oneway(medication_A, medication_B)\n",
    "\n",
    "# Print the test results\n",
    "print(\"F-statistic:\", f_statistic)\n",
    "print(\"p-value:\", p_value)\n"
   ]
  },
  {
   "cell_type": "code",
   "execution_count": 25,
   "id": "ad5e153e-6880-4b47-94bd-37c2a45f1cd1",
   "metadata": {},
   "outputs": [],
   "source": [
    "#Q8"
   ]
  },
  {
   "cell_type": "code",
   "execution_count": 26,
   "id": "5c900123-00aa-42f3-9215-5ef810ef1b28",
   "metadata": {},
   "outputs": [
    {
     "name": "stdout",
     "output_type": "stream",
     "text": [
      "                            OLS Regression Results                            \n",
      "==============================================================================\n",
      "Dep. Variable:                      y   R-squared:                       0.271\n",
      "Model:                            OLS   Adj. R-squared:                  0.125\n",
      "Method:                 Least Squares   F-statistic:                     1.859\n",
      "Date:                Sat, 08 Jul 2023   Prob (F-statistic):              0.231\n",
      "Time:                        16:19:09   Log-Likelihood:                -10.362\n",
      "No. Observations:                   7   AIC:                             24.72\n",
      "Df Residuals:                       5   BIC:                             24.62\n",
      "Df Model:                           1                                         \n",
      "Covariance Type:            nonrobust                                         \n",
      "==============================================================================\n",
      "                 coef    std err          t      P>|t|      [0.025      0.975]\n",
      "------------------------------------------------------------------------------\n",
      "const          8.5957      1.361      6.316      0.001       5.097      12.094\n",
      "x1            -0.4681      0.343     -1.363      0.231      -1.351       0.414\n",
      "==============================================================================\n",
      "Omnibus:                          nan   Durbin-Watson:                   2.414\n",
      "Prob(Omnibus):                    nan   Jarque-Bera (JB):                1.954\n",
      "Skew:                           1.292   Prob(JB):                        0.376\n",
      "Kurtosis:                       3.166   Cond. No.                         12.0\n",
      "==============================================================================\n",
      "\n",
      "Notes:\n",
      "[1] Standard Errors assume that the covariance matrix of the errors is correctly specified.\n"
     ]
    },
    {
     "name": "stderr",
     "output_type": "stream",
     "text": [
      "/opt/conda/lib/python3.10/site-packages/statsmodels/stats/stattools.py:74: ValueWarning: omni_normtest is not valid with less than 8 observations; 7 samples were given.\n",
      "  warn(\"omni_normtest is not valid with less than 8 observations; %i \"\n"
     ]
    }
   ],
   "source": [
    "import numpy as np\n",
    "import statsmodels.api as sm\n",
    "\n",
    "# Employee Tenure (in years)\n",
    "X = np.array([2, 3, 5, 4, 6, 2, 4])\n",
    "\n",
    "# Job Satisfaction (on a scale of 1 to 10)\n",
    "y = np.array([7, 8, 6, 9, 5, 7, 6])\n",
    "\n",
    "# Add a constant column to the X matrix for the intercept term\n",
    "X = sm.add_constant(X)\n",
    "\n",
    "# Create and fit the OLS (Ordinary Least Squares) model\n",
    "model = sm.OLS(y, X)\n",
    "results = model.fit()\n",
    "\n",
    "# Print the regression results\n",
    "print(results.summary())\n"
   ]
  },
  {
   "cell_type": "code",
   "execution_count": 27,
   "id": "60ded663-5fbf-4ab8-930e-a3528373fef8",
   "metadata": {},
   "outputs": [],
   "source": [
    "#Q7"
   ]
  },
  {
   "cell_type": "code",
   "execution_count": 28,
   "id": "9bfefb5e-3c0d-4358-a7a2-315b4171ac4c",
   "metadata": {},
   "outputs": [
    {
     "name": "stdout",
     "output_type": "stream",
     "text": [
      "Standard Deviation: 7.953949089757174\n"
     ]
    }
   ],
   "source": [
    "import numpy as np\n",
    "\n",
    "data = np.array([160, 170, 165, 155, 175, 180, 170])\n",
    "\n",
    "standard_deviation = np.std(data)\n",
    "\n",
    "print(\"Standard Deviation:\", standard_deviation)\n"
   ]
  },
  {
   "cell_type": "code",
   "execution_count": 29,
   "id": "955d345e-1f97-4d74-bd59-b69afab47ff9",
   "metadata": {},
   "outputs": [],
   "source": [
    "#Q6"
   ]
  },
  {
   "cell_type": "code",
   "execution_count": 30,
   "id": "0e197d51-fd29-4ba5-8d9f-84adca540eed",
   "metadata": {},
   "outputs": [
    {
     "name": "stdout",
     "output_type": "stream",
     "text": [
      "Correlation Coefficient: 0.8757511375750132\n"
     ]
    }
   ],
   "source": [
    "import numpy as np\n",
    "\n",
    "# Advertising Expenditure (in thousands)\n",
    "expenditure = np.array([10, 15, 12, 8, 14])\n",
    "\n",
    "# Sales (in thousands)\n",
    "sales = np.array([25, 30, 28, 20, 26])\n",
    "\n",
    "# Calculate the correlation coefficient\n",
    "correlation_coefficient = np.corrcoef(expenditure, sales)[0, 1]\n",
    "\n",
    "print(\"Correlation Coefficient:\", correlation_coefficient)\n"
   ]
  },
  {
   "cell_type": "code",
   "execution_count": 31,
   "id": "2000f01e-ac55-4d52-83f7-7e3e2694589d",
   "metadata": {},
   "outputs": [],
   "source": [
    "#Q5"
   ]
  },
  {
   "cell_type": "code",
   "execution_count": 32,
   "id": "7f8bbec7-41e8-4311-aa06-730a796aea0d",
   "metadata": {},
   "outputs": [
    {
     "name": "stdout",
     "output_type": "stream",
     "text": [
      "T-statistic: 1.4312528946642733\n",
      "p-value: 0.19023970239078333\n"
     ]
    }
   ],
   "source": [
    "import numpy as np\n",
    "from scipy.stats import ttest_ind\n",
    "\n",
    "# Test scores for each group\n",
    "group_A = np.array([85, 90, 92, 88, 91])\n",
    "group_B = np.array([82, 88, 90, 86, 87])\n",
    "\n",
    "# Perform independent t-test\n",
    "t_statistic, p_value = ttest_ind(group_A, group_B)\n",
    "\n",
    "# Print the test results\n",
    "print(\"T-statistic:\", t_statistic)\n",
    "print(\"p-value:\", p_value)\n"
   ]
  },
  {
   "cell_type": "code",
   "execution_count": 33,
   "id": "5f3484a7-f456-45bc-854f-cc10774c6f91",
   "metadata": {},
   "outputs": [],
   "source": [
    "#Q4"
   ]
  },
  {
   "cell_type": "code",
   "execution_count": 34,
   "id": "a791c3b4-dfec-4acc-9ca3-bd9d12538670",
   "metadata": {},
   "outputs": [
    {
     "name": "stdout",
     "output_type": "stream",
     "text": [
      "Range of Stock Prices: 1.3000000000000007\n"
     ]
    }
   ],
   "source": [
    "import numpy as np\n",
    "\n",
    "data = np.array([25.5, 24.8, 26.1, 25.3, 24.9])\n",
    "\n",
    "price_range = np.max(data) - np.min(data)\n",
    "\n",
    "print(\"Range of Stock Prices:\", price_range)\n"
   ]
  },
  {
   "cell_type": "code",
   "execution_count": 35,
   "id": "9d62cf03-8692-40d5-ae4f-06a7f04e2463",
   "metadata": {},
   "outputs": [],
   "source": [
    "#Q3"
   ]
  },
  {
   "cell_type": "code",
   "execution_count": 36,
   "id": "49ce86b8-3fbc-4ba9-8a79-a730c45cacdc",
   "metadata": {},
   "outputs": [
    {
     "name": "stdout",
     "output_type": "stream",
     "text": [
      "Median Salary for Department A: 5750.0\n",
      "Median Salary for Department B: 5500.0\n"
     ]
    }
   ],
   "source": [
    "import numpy as np\n",
    "\n",
    "department_A = np.array([5000, 6000, 5500, 7000])\n",
    "department_B = np.array([4500, 5500, 5800, 6000, 5200])\n",
    "\n",
    "median_A = np.median(department_A)\n",
    "median_B = np.median(department_B)\n",
    "\n",
    "print(\"Median Salary for Department A:\", median_A)\n",
    "print(\"Median Salary for Department B:\", median_B)\n"
   ]
  },
  {
   "cell_type": "code",
   "execution_count": 37,
   "id": "847a91e5-03e8-47a9-86e3-e77c1d129129",
   "metadata": {},
   "outputs": [],
   "source": [
    "#Q2"
   ]
  },
  {
   "cell_type": "code",
   "execution_count": 38,
   "id": "943bda54-f11a-41a6-96f9-500124d6659a",
   "metadata": {},
   "outputs": [
    {
     "name": "stdout",
     "output_type": "stream",
     "text": [
      "Mode of the Survey Responses: 4\n"
     ]
    }
   ],
   "source": [
    "import statistics\n",
    "\n",
    "data = [4, 5, 2, 3, 5, 4, 3, 2, 4, 5]\n",
    "\n",
    "mode = statistics.mode(data)\n",
    "\n",
    "print(\"Mode of the Survey Responses:\", mode)\n"
   ]
  },
  {
   "cell_type": "code",
   "execution_count": 39,
   "id": "0ed811d2-b5e3-4f08-92a1-88279fefdda6",
   "metadata": {},
   "outputs": [],
   "source": [
    "#Q1"
   ]
  },
  {
   "cell_type": "code",
   "execution_count": 40,
   "id": "52c654c8-f1df-45d9-be87-1aa6fa5ae8b9",
   "metadata": {},
   "outputs": [
    {
     "name": "stdout",
     "output_type": "stream",
     "text": [
      "Mean Sales for Region A: 11.8\n",
      "Mean Sales for Region B: 20.2\n"
     ]
    }
   ],
   "source": [
    "import numpy as np\n",
    "\n",
    "region_A = np.array([10, 15, 12, 8, 14])\n",
    "region_B = np.array([18, 20, 16, 22, 25])\n",
    "\n",
    "mean_A = np.mean(region_A)\n",
    "mean_B = np.mean(region_B)\n",
    "\n",
    "print(\"Mean Sales for Region A:\", mean_A)\n",
    "print(\"Mean Sales for Region B:\", mean_B)\n"
   ]
  },
  {
   "cell_type": "code",
   "execution_count": null,
   "id": "51cbfdb2-dfb9-4278-84f9-d1439b04d1e6",
   "metadata": {},
   "outputs": [],
   "source": []
  }
 ],
 "metadata": {
  "kernelspec": {
   "display_name": "Python 3 (ipykernel)",
   "language": "python",
   "name": "python3"
  },
  "language_info": {
   "codemirror_mode": {
    "name": "ipython",
    "version": 3
   },
   "file_extension": ".py",
   "mimetype": "text/x-python",
   "name": "python",
   "nbconvert_exporter": "python",
   "pygments_lexer": "ipython3",
   "version": "3.10.6"
  }
 },
 "nbformat": 4,
 "nbformat_minor": 5
}
